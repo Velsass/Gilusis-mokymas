{
  "nbformat": 4,
  "nbformat_minor": 0,
  "metadata": {
    "colab": {
      "provenance": []
    },
    "kernelspec": {
      "name": "python3",
      "display_name": "Python 3"
    },
    "language_info": {
      "name": "python"
    }
  },
  "cells": [
    {
      "cell_type": "code",
      "execution_count": null,
      "metadata": {
        "id": "2Gqx2oy5PzAX"
      },
      "outputs": [],
      "source": []
    },
    {
      "cell_type": "markdown",
      "source": [
        "Pasinrinktas duomenu rinkinys: https://www.kaggle.com/datasets/teamincribo/cyber-security-attacks"
      ],
      "metadata": {
        "id": "6qxtubVqP17q"
      }
    },
    {
      "cell_type": "markdown",
      "source": [
        "Hipotezė: Tam tikros tinklo srauto charakteristikos ir protokolai yra reikšmingai susiję su specifinėmis kibernetinių atakų rūšimis ir gali būti naudojami grėsmių aptikimui.\n",
        "\n",
        "\n",
        "Tikslas: Sukurti modelį, kuris, analizuodamas tinklo srauto duomenis, atpažintų skirtingas kibernetines atakas arba juos klasifikuotų pagal atakos tipą.\n",
        "\n",
        "Rinkinys:\n",
        "Rinkinyje pateikiamia infomacija apie tinklo srauto duomenis tokius kintamuosius kaip šaltinio ir paskirties IP adresai, tinklo protokolai, paketų ilgiai, srauto tipas ir specifiniai kenkėjiškos veiklos indikatoriai. Rinkinyje taip pat pateikiami kiekvieno įvykio klasifikavimo rezultatai pagal atakos tipą (pvz., DDoS, phishing, ransomware), įspėjimų lygiai bei vartotojo informacija ir susijusios saugumo priemonės (įspėjimų registravimas ar blokavimas)."
      ],
      "metadata": {
        "id": "0UFPC86dU14q"
      }
    },
    {
      "cell_type": "markdown",
      "source": [],
      "metadata": {
        "id": "_O113EjiU11v"
      }
    }
  ]
}