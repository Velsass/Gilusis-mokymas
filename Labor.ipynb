

Pasinrinktas duomenu rinkinys: https://www.kaggle.com/datasets/teamincribo/cyber-security-attacks

Hipotezė: Tam tikros tinklo srauto charakteristikos ir protokolai yra reikšmingai susiję su specifinėmis kibernetinių atakų rūšimis ir gali būti naudojami grėsmių aptikimui.

Tikslas: Sukurti modelį, kuris, analizuodamas tinklo srauto duomenis, atpažintų skirtingas kibernetines atakas arba juos klasifikuotų pagal atakos tipą.

Rinkinys: Rinkinyje pateikiamia infomacija apie tinklo srauto duomenis tokius kintamuosius kaip šaltinio ir paskirties IP adresai, tinklo protokolai, paketų ilgiai, srauto tipas ir specifiniai kenkėjiškos veiklos indikatoriai. Rinkinyje taip pat pateikiami kiekvieno įvykio klasifikavimo rezultatai pagal atakos tipą (pvz., DDoS, phishing, ransomware), įspėjimų lygiai bei vartotojo informacija ir susijusios saugumo priemonės (įspėjimų registravimas ar blokavimas).

Double-click (or enter) to edit
